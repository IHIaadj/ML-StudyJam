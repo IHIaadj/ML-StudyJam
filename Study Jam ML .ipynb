{
 "cells": [
  {
   "cell_type": "markdown",
   "metadata": {},
   "source": [
    "# Study Jam ML \n",
    "In this study Jam we'll be focusing on learning basic machine learning algorithms and concepts. \n",
    "\n",
    "This workshop is structured this way : \n",
    "\n",
    "1. Understand the philosophy behind machine leanring \n",
    "    1. Why mastering machine learning ?\n",
    "    2. When to use ML ?\n",
    "    3. Steps to create an ML App\n",
    "    4. ML Terminology \n",
    "    5. Check your understanding \n",
    "2. Setting up the tools \n",
    "    1. Why python ? \n",
    "    2. Jupyter ? the planet ? \n",
    "    3. Check the given files \n",
    "    4. Experience the power of pandas and Numpy\n",
    "3. Understand Linear regression \n",
    "    1. Define the loss function \n",
    "    2. The learning Rate \n",
    "    3. Program the house pricing problem \n",
    "    4. Check your understanding \n",
    "    \n",
    "4. What about overfitting \n",
    "    1. Tests methodologies (Splitting Data)\n",
    "    2. Update your work \n",
    "    3. Validation \n",
    "    4. Check your intuition \n",
    "5. Let's Classify spams \n",
    "    * Classification Problem with Naive Bayes \n",
    "6. Challenge !!!\n",
    "\n",
    "\n",
    "![Ready to start ML ? ](images/giphy.gif)"
   ]
  },
  {
   "cell_type": "markdown",
   "metadata": {},
   "source": [
    "## Understand the philosophy behind machine learning \n",
    "### Why mastering machine learning ? \n",
    "1. Reduce time programming \n",
    "2. Customize your products \n",
    "3. Recognize what machine learning do well and apply it. \n",
    "\n",
    "![Face recognition](images/t.gif)\n",
    "\n",
    "### When to use ML ? \n",
    "It is important to remember that ML is not a solution for every type of problem. There are certain cases where robust solutions can be developed without using ML techniques. For example, you don’t need ML if you can determine a target value by using simple rules, computations, or predetermined steps that can be programmed without needing any data-driven learning.\n",
    "\n",
    "Use machine learning for the following situations:\n",
    "\n",
    "* You cannot code the rules: Many human tasks (such as recognizing whether an email is spam or not spam) cannot be adequately solved using a simple (deterministic), rule-based solution. A large number of factors could influence the answer. When rules depend on too many factors and many of these rules overlap or need to be tuned very finely, it soon becomes difficult for a human to accurately code the rules. You can use ML to effectively solve this problem.\n",
    "\n",
    "* You cannot scale: You might be able to manually recognize a few hundred emails and decide whether they are spam or not. However, this task becomes tedious for millions of emails. ML solutions are effective at handling large-scale problems.\n",
    "\n",
    "\n",
    "### Steps to create a machine learning application \n",
    "Building ML applications is an iterative process that involves a sequence of steps. To build an ML application, follow these general steps:\n",
    "\n",
    "1. Frame the core ML problem(s) in terms of what is observed and what answer you want the model to predict.\n",
    "\n",
    "2. Collect, clean, and prepare data to make it suitable for consumption by ML model training algorithms. Visualize and analyze the data to run sanity checks to validate the quality of the data and to understand the data.\n",
    "\n",
    "3. Often, the raw data (input variables) and answer (target) are not represented in a way that can be used to train a highly predictive model. Therefore, you typically should attempt to construct more predictive input representations or features from the raw variables.\n",
    "\n",
    "4. Feed the resulting features to the learning algorithm to build models and evaluate the quality of the models on data that was held out from model building.\n",
    "\n",
    "5. Use the model to generate predictions of the target answer for new data instances.\n",
    "\n",
    "![Steps to create a machine learning application](images/machine.jpg)\n",
    "\n",
    "### ML Terminology \n",
    "Here we're gonna fix some terminologies to be at the same state when we talk about ML algorithms. \n",
    "\n",
    "#### What's a model ? \n",
    "A model is a standard machine learning algorithm. It is categorized depending on the inputs and outputs of the algorithm. \n",
    "\n",
    "#### Supervised \n",
    "It's a type of model where the inputs are labeled. \n",
    "\n",
    "| Inputs        | Outputs       | Type           |\n",
    "| ------------- |---------------| ---------------|\n",
    "| labeled       | Continue      | Regression     |\n",
    "| labeled       | Discrete      | Classification |\n",
    "\n",
    "\n",
    "**Label** is the correct answer for a given input (training example). \n",
    "\n",
    "**Features** are the variable that you want to train on. \n",
    " \n",
    "##### Classification \n",
    "![Classification](images/class.jpg) \n",
    "\n",
    "##### Regression \n",
    "![Regression](images/reg.jpg)\n",
    "\n",
    "\n",
    "### Check your understanding ! \n",
    "\n",
    "Suppose you want to develop a supervised machine learning model to predict whether a given email is \"spam\" or \"not spam.\" Which of the following statements are true?\n",
    "\n",
    "* The labels applied to some examples might be unreliable. \n",
    "* We'll use unlabeled examples to train the model.\n",
    "* Emails not marked as \"spam\" or \"not spam\" are unlabeled examples.\n",
    "* Words in the subject header will make good labels. \n",
    "\n",
    "Suppose your an online gaming platform that recommand games to users. Which feature will you use ? \n",
    "\n",
    "\n",
    "\n"
   ]
  },
  {
   "cell_type": "markdown",
   "metadata": {},
   "source": [
    "## Setting up the tools ! \n",
    "### Why python \n",
    "* Python is like the swiss army knife of machine learning. \n",
    "* Easy to understand \n",
    "* Not the fastest ! \n",
    "\n",
    "![Python](images/python.png)\n",
    "\n",
    "### Jupyter the planet ? No this notebook ! \n",
    "A powerful tool for educational purposes ! \n",
    "\n",
    "The Jupyter Notebook is an open-source web application that allows you to create and share documents that contain live code, equations, visualizations and narrative text. Uses include: data cleaning and transformation, numerical simulation, statistical modeling, data visualization, machine learning, and much more. \n",
    "\n",
    "### Check the given files \n",
    "* Housing Dataset \n",
    "* SPAM Dataset \n",
    "* Installed libraries \n",
    "* Challenges datasets \n",
    "\n",
    "### Experience the power of pandas and Numpy \n",
    "#### Numpy \n",
    "* Mathematical and logical operations on arrays.\n",
    "* Fourier transforms and routines for shape manipulation.\n",
    "* Operations related to linear algebra. NumPy has in-built functions for linear algebra and random number generation.\n"
   ]
  },
  {
   "cell_type": "code",
   "execution_count": 1,
   "metadata": {
    "scrolled": true
   },
   "outputs": [
    {
     "name": "stdout",
     "output_type": "stream",
     "text": [
      "[ 0  1  2  3  4  5  6  7  8  9 10 11 12 13 14]\n"
     ]
    }
   ],
   "source": [
    "import numpy as np\n",
    "# Create a numpy array \n",
    "a = np.arange(15)\n",
    "print(a)\n"
   ]
  },
  {
   "cell_type": "code",
   "execution_count": 2,
   "metadata": {},
   "outputs": [
    {
     "name": "stdout",
     "output_type": "stream",
     "text": [
      "Reshaped\n",
      "[[ 0  1  2]\n",
      " [ 3  4  5]\n",
      " [ 6  7  8]\n",
      " [ 9 10 11]\n",
      " [12 13 14]]\n"
     ]
    }
   ],
   "source": [
    "# Reshape the array in a 2dim array \n",
    "print('Reshaped')\n",
    "a = a.reshape(5,3)\n",
    "print(a)"
   ]
  },
  {
   "cell_type": "code",
   "execution_count": 3,
   "metadata": {},
   "outputs": [
    {
     "name": "stdout",
     "output_type": "stream",
     "text": [
      "[ 0  1  2  3  4  5  6  7  8  9 10 11 12 13 14]\n",
      "[[ 0  1  2]\n",
      " [ 3  4  5]\n",
      " [ 6  7  8]\n",
      " [ 9 10 11]\n",
      " [12 13 14]]\n"
     ]
    }
   ],
   "source": [
    "print(a.ravel()) \n",
    "print(a)"
   ]
  },
  {
   "cell_type": "code",
   "execution_count": 4,
   "metadata": {},
   "outputs": [
    {
     "name": "stdout",
     "output_type": "stream",
     "text": [
      "[[ 0  3  6  9 12]\n",
      " [ 1  4  7 10 13]\n",
      " [ 2  5  8 11 14]]\n"
     ]
    }
   ],
   "source": [
    "print(a.T)"
   ]
  },
  {
   "cell_type": "code",
   "execution_count": 5,
   "metadata": {},
   "outputs": [
    {
     "name": "stdout",
     "output_type": "stream",
     "text": [
      "[[0. 0. 0. 0.]\n",
      " [0. 0. 0. 0.]\n",
      " [0. 0. 0. 0.]]\n"
     ]
    }
   ],
   "source": [
    "# Initialize an array of zeros \n",
    "print(np.zeros( (3,4) ))"
   ]
  },
  {
   "cell_type": "code",
   "execution_count": 6,
   "metadata": {},
   "outputs": [
    {
     "name": "stdout",
     "output_type": "stream",
     "text": [
      "[[0. 0. 0.]\n",
      " [0. 0. 0.]]\n"
     ]
    }
   ],
   "source": [
    "# Empty array \n",
    "print(np.empty( (2,3) ))"
   ]
  },
  {
   "cell_type": "code",
   "execution_count": 7,
   "metadata": {},
   "outputs": [
    {
     "name": "stdout",
     "output_type": "stream",
     "text": [
      "[ 0.    1.25  2.5   3.75  5.    6.25  7.5   8.75 10.  ]\n"
     ]
    }
   ],
   "source": [
    "# Iterrative array \n",
    "print(np.linspace( 0, 10, 9 )) "
   ]
  },
  {
   "cell_type": "code",
   "execution_count": 8,
   "metadata": {},
   "outputs": [
    {
     "name": "stdout",
     "output_type": "stream",
     "text": [
      "[   0    1    2 ... 9997 9998 9999]\n"
     ]
    }
   ],
   "source": [
    "# Big array \n",
    "print(np.arange(10000))"
   ]
  },
  {
   "cell_type": "code",
   "execution_count": 9,
   "metadata": {},
   "outputs": [
    {
     "name": "stdout",
     "output_type": "stream",
     "text": [
      "[   0    1    2 ... 9997 9998 9999]\n"
     ]
    }
   ],
   "source": [
    "# Disable numpy behaviour to not print all table\n",
    "#np.set_printoptions(threshold=np.nan)\n",
    "print(np.arange(10000))"
   ]
  },
  {
   "cell_type": "code",
   "execution_count": 10,
   "metadata": {},
   "outputs": [
    {
     "name": "stdout",
     "output_type": "stream",
     "text": [
      "[[False False False]\n",
      " [False False False]\n",
      " [ True  True  True]\n",
      " [ True  True  True]\n",
      " [ True  True  True]]\n",
      "[[ 6  7  8]\n",
      " [ 9 10 11]\n",
      " [12 13 14]]\n"
     ]
    }
   ],
   "source": [
    "# Apply elementwise logical operations \n",
    "print(a>5)\n",
    "\n",
    "\n",
    "# Slicing \n",
    "print(a[2:5]) "
   ]
  },
  {
   "cell_type": "code",
   "execution_count": 11,
   "metadata": {},
   "outputs": [
    {
     "name": "stdout",
     "output_type": "stream",
     "text": [
      "(2, 2)\n",
      "[[2 0]\n",
      " [0 4]]\n"
     ]
    }
   ],
   "source": [
    "# Matrix \n",
    "A = np.array( [[1,1], [0,1]] )\n",
    "B = np.array( [[2,0],[3,4]] )\n",
    "\n",
    "print(A.shape)\n",
    "# elementwise product\n",
    "print( A * B )"
   ]
  },
  {
   "cell_type": "code",
   "execution_count": 12,
   "metadata": {},
   "outputs": [
    {
     "name": "stdout",
     "output_type": "stream",
     "text": [
      "[[5 4]\n",
      " [3 4]]\n"
     ]
    }
   ],
   "source": [
    "# Matrix product \n",
    "print(A @ B)  "
   ]
  },
  {
   "cell_type": "markdown",
   "metadata": {},
   "source": [
    "#### Pandas \n",
    "* It is built on the Numpy package \n",
    "* Its key data structure is called the DataFrame.\n",
    "* DataFrames allow you to store and manipulate tabular data in rows of observations and columns of variables.\n"
   ]
  },
  {
   "cell_type": "code",
   "execution_count": 13,
   "metadata": {},
   "outputs": [
    {
     "name": "stdout",
     "output_type": "stream",
     "text": [
      "        country    capital    area  population\n",
      "0        Brazil   Brasilia   8.516      200.40\n",
      "1        Russia     Moscow  17.100      143.50\n",
      "2         India  New Dehli   3.286     1252.00\n",
      "3         China    Beijing   9.597     1357.00\n",
      "4  South Africa   Pretoria   1.221       52.98\n"
     ]
    }
   ],
   "source": [
    "dict = {\"country\": [\"Brazil\", \"Russia\", \"India\", \"China\", \"South Africa\"],\n",
    "       \"capital\": [\"Brasilia\", \"Moscow\", \"New Dehli\", \"Beijing\", \"Pretoria\"],\n",
    "       \"area\": [8.516, 17.10, 3.286, 9.597, 1.221],\n",
    "       \"population\": [200.4, 143.5, 1252, 1357, 52.98] }\n",
    "\n",
    "import pandas as pd\n",
    "brics = pd.DataFrame(dict)\n",
    "print(brics)"
   ]
  },
  {
   "cell_type": "code",
   "execution_count": 15,
   "metadata": {},
   "outputs": [
    {
     "name": "stdout",
     "output_type": "stream",
     "text": [
      "        Id  MSSubClass MSZoning  LotFrontage  LotArea Street Alley LotShape  \\\n",
      "0        1          60       RL         65.0     8450   Pave   NaN      Reg   \n",
      "1        2          20       RL         80.0     9600   Pave   NaN      Reg   \n",
      "2        3          60       RL         68.0    11250   Pave   NaN      IR1   \n",
      "3        4          70       RL         60.0     9550   Pave   NaN      IR1   \n",
      "4        5          60       RL         84.0    14260   Pave   NaN      IR1   \n",
      "5        6          50       RL         85.0    14115   Pave   NaN      IR1   \n",
      "6        7          20       RL         75.0    10084   Pave   NaN      Reg   \n",
      "7        8          60       RL          NaN    10382   Pave   NaN      IR1   \n",
      "8        9          50       RM         51.0     6120   Pave   NaN      Reg   \n",
      "9       10         190       RL         50.0     7420   Pave   NaN      Reg   \n",
      "10      11          20       RL         70.0    11200   Pave   NaN      Reg   \n",
      "11      12          60       RL         85.0    11924   Pave   NaN      IR1   \n",
      "12      13          20       RL          NaN    12968   Pave   NaN      IR2   \n",
      "13      14          20       RL         91.0    10652   Pave   NaN      IR1   \n",
      "14      15          20       RL          NaN    10920   Pave   NaN      IR1   \n",
      "15      16          45       RM         51.0     6120   Pave   NaN      Reg   \n",
      "16      17          20       RL          NaN    11241   Pave   NaN      IR1   \n",
      "17      18          90       RL         72.0    10791   Pave   NaN      Reg   \n",
      "18      19          20       RL         66.0    13695   Pave   NaN      Reg   \n",
      "19      20          20       RL         70.0     7560   Pave   NaN      Reg   \n",
      "20      21          60       RL        101.0    14215   Pave   NaN      IR1   \n",
      "21      22          45       RM         57.0     7449   Pave  Grvl      Reg   \n",
      "22      23          20       RL         75.0     9742   Pave   NaN      Reg   \n",
      "23      24         120       RM         44.0     4224   Pave   NaN      Reg   \n",
      "24      25          20       RL          NaN     8246   Pave   NaN      IR1   \n",
      "25      26          20       RL        110.0    14230   Pave   NaN      Reg   \n",
      "26      27          20       RL         60.0     7200   Pave   NaN      Reg   \n",
      "27      28          20       RL         98.0    11478   Pave   NaN      Reg   \n",
      "28      29          20       RL         47.0    16321   Pave   NaN      IR1   \n",
      "29      30          30       RM         60.0     6324   Pave   NaN      IR1   \n",
      "...    ...         ...      ...          ...      ...    ...   ...      ...   \n",
      "1430  1431          60       RL         60.0    21930   Pave   NaN      IR3   \n",
      "1431  1432         120       RL          NaN     4928   Pave   NaN      IR1   \n",
      "1432  1433          30       RL         60.0    10800   Pave  Grvl      Reg   \n",
      "1433  1434          60       RL         93.0    10261   Pave   NaN      IR1   \n",
      "1434  1435          20       RL         80.0    17400   Pave   NaN      Reg   \n",
      "1435  1436          20       RL         80.0     8400   Pave   NaN      Reg   \n",
      "1436  1437          20       RL         60.0     9000   Pave   NaN      Reg   \n",
      "1437  1438          20       RL         96.0    12444   Pave   NaN      Reg   \n",
      "1438  1439          20       RM         90.0     7407   Pave   NaN      Reg   \n",
      "1439  1440          60       RL         80.0    11584   Pave   NaN      Reg   \n",
      "1440  1441          70       RL         79.0    11526   Pave   NaN      IR1   \n",
      "1441  1442         120       RM          NaN     4426   Pave   NaN      Reg   \n",
      "1442  1443          60       FV         85.0    11003   Pave   NaN      Reg   \n",
      "1443  1444          30       RL          NaN     8854   Pave   NaN      Reg   \n",
      "1444  1445          20       RL         63.0     8500   Pave   NaN      Reg   \n",
      "1445  1446          85       RL         70.0     8400   Pave   NaN      Reg   \n",
      "1446  1447          20       RL          NaN    26142   Pave   NaN      IR1   \n",
      "1447  1448          60       RL         80.0    10000   Pave   NaN      Reg   \n",
      "1448  1449          50       RL         70.0    11767   Pave   NaN      Reg   \n",
      "1449  1450         180       RM         21.0     1533   Pave   NaN      Reg   \n",
      "1450  1451          90       RL         60.0     9000   Pave   NaN      Reg   \n",
      "1451  1452          20       RL         78.0     9262   Pave   NaN      Reg   \n",
      "1452  1453         180       RM         35.0     3675   Pave   NaN      Reg   \n",
      "1453  1454          20       RL         90.0    17217   Pave   NaN      Reg   \n",
      "1454  1455          20       FV         62.0     7500   Pave  Pave      Reg   \n",
      "1455  1456          60       RL         62.0     7917   Pave   NaN      Reg   \n",
      "1456  1457          20       RL         85.0    13175   Pave   NaN      Reg   \n",
      "1457  1458          70       RL         66.0     9042   Pave   NaN      Reg   \n",
      "1458  1459          20       RL         68.0     9717   Pave   NaN      Reg   \n",
      "1459  1460          20       RL         75.0     9937   Pave   NaN      Reg   \n",
      "\n",
      "     LandContour Utilities    ...     PoolArea PoolQC  Fence MiscFeature  \\\n",
      "0            Lvl    AllPub    ...            0    NaN    NaN         NaN   \n",
      "1            Lvl    AllPub    ...            0    NaN    NaN         NaN   \n",
      "2            Lvl    AllPub    ...            0    NaN    NaN         NaN   \n",
      "3            Lvl    AllPub    ...            0    NaN    NaN         NaN   \n",
      "4            Lvl    AllPub    ...            0    NaN    NaN         NaN   \n",
      "5            Lvl    AllPub    ...            0    NaN  MnPrv        Shed   \n",
      "6            Lvl    AllPub    ...            0    NaN    NaN         NaN   \n",
      "7            Lvl    AllPub    ...            0    NaN    NaN        Shed   \n",
      "8            Lvl    AllPub    ...            0    NaN    NaN         NaN   \n",
      "9            Lvl    AllPub    ...            0    NaN    NaN         NaN   \n",
      "10           Lvl    AllPub    ...            0    NaN    NaN         NaN   \n",
      "11           Lvl    AllPub    ...            0    NaN    NaN         NaN   \n",
      "12           Lvl    AllPub    ...            0    NaN    NaN         NaN   \n",
      "13           Lvl    AllPub    ...            0    NaN    NaN         NaN   \n",
      "14           Lvl    AllPub    ...            0    NaN   GdWo         NaN   \n",
      "15           Lvl    AllPub    ...            0    NaN  GdPrv         NaN   \n",
      "16           Lvl    AllPub    ...            0    NaN    NaN        Shed   \n",
      "17           Lvl    AllPub    ...            0    NaN    NaN        Shed   \n",
      "18           Lvl    AllPub    ...            0    NaN    NaN         NaN   \n",
      "19           Lvl    AllPub    ...            0    NaN  MnPrv         NaN   \n",
      "20           Lvl    AllPub    ...            0    NaN    NaN         NaN   \n",
      "21           Bnk    AllPub    ...            0    NaN  GdPrv         NaN   \n",
      "22           Lvl    AllPub    ...            0    NaN    NaN         NaN   \n",
      "23           Lvl    AllPub    ...            0    NaN    NaN         NaN   \n",
      "24           Lvl    AllPub    ...            0    NaN  MnPrv         NaN   \n",
      "25           Lvl    AllPub    ...            0    NaN    NaN         NaN   \n",
      "26           Lvl    AllPub    ...            0    NaN    NaN         NaN   \n",
      "27           Lvl    AllPub    ...            0    NaN    NaN         NaN   \n",
      "28           Lvl    AllPub    ...            0    NaN    NaN         NaN   \n",
      "29           Lvl    AllPub    ...            0    NaN    NaN         NaN   \n",
      "...          ...       ...    ...          ...    ...    ...         ...   \n",
      "1430         Lvl    AllPub    ...            0    NaN    NaN         NaN   \n",
      "1431         Lvl    AllPub    ...            0    NaN    NaN         NaN   \n",
      "1432         Lvl    AllPub    ...            0    NaN    NaN         NaN   \n",
      "1433         Lvl    AllPub    ...            0    NaN    NaN         NaN   \n",
      "1434         Low    AllPub    ...            0    NaN    NaN         NaN   \n",
      "1435         Lvl    AllPub    ...            0    NaN  GdPrv         NaN   \n",
      "1436         Lvl    AllPub    ...            0    NaN   GdWo         NaN   \n",
      "1437         Lvl    AllPub    ...            0    NaN    NaN         NaN   \n",
      "1438         Lvl    AllPub    ...            0    NaN  MnPrv         NaN   \n",
      "1439         Lvl    AllPub    ...            0    NaN    NaN         NaN   \n",
      "1440         Bnk    AllPub    ...            0    NaN    NaN         NaN   \n",
      "1441         Lvl    AllPub    ...            0    NaN    NaN         NaN   \n",
      "1442         Lvl    AllPub    ...            0    NaN    NaN         NaN   \n",
      "1443         Lvl    AllPub    ...            0    NaN    NaN         NaN   \n",
      "1444         Lvl    AllPub    ...            0    NaN    NaN         NaN   \n",
      "1445         Lvl    AllPub    ...            0    NaN    NaN         NaN   \n",
      "1446         Lvl    AllPub    ...            0    NaN    NaN         NaN   \n",
      "1447         Lvl    AllPub    ...            0    NaN    NaN         NaN   \n",
      "1448         Lvl    AllPub    ...            0    NaN   GdWo         NaN   \n",
      "1449         Lvl    AllPub    ...            0    NaN    NaN         NaN   \n",
      "1450         Lvl    AllPub    ...            0    NaN    NaN         NaN   \n",
      "1451         Lvl    AllPub    ...            0    NaN    NaN         NaN   \n",
      "1452         Lvl    AllPub    ...            0    NaN    NaN         NaN   \n",
      "1453         Lvl    AllPub    ...            0    NaN    NaN         NaN   \n",
      "1454         Lvl    AllPub    ...            0    NaN    NaN         NaN   \n",
      "1455         Lvl    AllPub    ...            0    NaN    NaN         NaN   \n",
      "1456         Lvl    AllPub    ...            0    NaN  MnPrv         NaN   \n",
      "1457         Lvl    AllPub    ...            0    NaN  GdPrv        Shed   \n",
      "1458         Lvl    AllPub    ...            0    NaN    NaN         NaN   \n",
      "1459         Lvl    AllPub    ...            0    NaN    NaN         NaN   \n",
      "\n",
      "     MiscVal MoSold YrSold  SaleType  SaleCondition  SalePrice  \n",
      "0          0      2   2008        WD         Normal     208500  \n",
      "1          0      5   2007        WD         Normal     181500  \n",
      "2          0      9   2008        WD         Normal     223500  \n",
      "3          0      2   2006        WD        Abnorml     140000  \n",
      "4          0     12   2008        WD         Normal     250000  \n",
      "5        700     10   2009        WD         Normal     143000  \n",
      "6          0      8   2007        WD         Normal     307000  \n",
      "7        350     11   2009        WD         Normal     200000  \n",
      "8          0      4   2008        WD        Abnorml     129900  \n",
      "9          0      1   2008        WD         Normal     118000  \n",
      "10         0      2   2008        WD         Normal     129500  \n",
      "11         0      7   2006       New        Partial     345000  \n",
      "12         0      9   2008        WD         Normal     144000  \n",
      "13         0      8   2007       New        Partial     279500  \n",
      "14         0      5   2008        WD         Normal     157000  \n",
      "15         0      7   2007        WD         Normal     132000  \n",
      "16       700      3   2010        WD         Normal     149000  \n",
      "17       500     10   2006        WD         Normal      90000  \n",
      "18         0      6   2008        WD         Normal     159000  \n",
      "19         0      5   2009       COD        Abnorml     139000  \n",
      "20         0     11   2006       New        Partial     325300  \n",
      "21         0      6   2007        WD         Normal     139400  \n",
      "22         0      9   2008        WD         Normal     230000  \n",
      "23         0      6   2007        WD         Normal     129900  \n",
      "24         0      5   2010        WD         Normal     154000  \n",
      "25         0      7   2009        WD         Normal     256300  \n",
      "26         0      5   2010        WD         Normal     134800  \n",
      "27         0      5   2010        WD         Normal     306000  \n",
      "28         0     12   2006        WD         Normal     207500  \n",
      "29         0      5   2008        WD         Normal      68500  \n",
      "...      ...    ...    ...       ...            ...        ...  \n",
      "1430       0      7   2006        WD         Normal     192140  \n",
      "1431       0     10   2009        WD         Normal     143750  \n",
      "1432       0      8   2007        WD         Normal      64500  \n",
      "1433       0      5   2008        WD         Normal     186500  \n",
      "1434       0      5   2006        WD         Normal     160000  \n",
      "1435       0      7   2008       COD        Abnorml     174000  \n",
      "1436       0      5   2007        WD         Normal     120500  \n",
      "1437       0     11   2008       New        Partial     394617  \n",
      "1438       0      4   2010        WD         Normal     149700  \n",
      "1439       0     11   2007        WD         Normal     197000  \n",
      "1440       0      9   2008        WD         Normal     191000  \n",
      "1441       0      5   2008        WD         Normal     149300  \n",
      "1442       0      4   2009        WD         Normal     310000  \n",
      "1443       0      5   2009        WD         Normal     121000  \n",
      "1444       0     11   2007        WD         Normal     179600  \n",
      "1445       0      5   2007        WD         Normal     129000  \n",
      "1446       0      4   2010        WD         Normal     157900  \n",
      "1447       0     12   2007        WD         Normal     240000  \n",
      "1448       0      5   2007        WD         Normal     112000  \n",
      "1449       0      8   2006        WD        Abnorml      92000  \n",
      "1450       0      9   2009        WD         Normal     136000  \n",
      "1451       0      5   2009       New        Partial     287090  \n",
      "1452       0      5   2006        WD         Normal     145000  \n",
      "1453       0      7   2006        WD        Abnorml      84500  \n",
      "1454       0     10   2009        WD         Normal     185000  \n",
      "1455       0      8   2007        WD         Normal     175000  \n",
      "1456       0      2   2010        WD         Normal     210000  \n",
      "1457    2500      5   2010        WD         Normal     266500  \n",
      "1458       0      4   2010        WD         Normal     142125  \n",
      "1459       0      6   2008        WD         Normal     147500  \n",
      "\n",
      "[1460 rows x 81 columns]\n"
     ]
    }
   ],
   "source": [
    "# Import the house.csv data: houses\n",
    "houses = pd.read_csv('datasets/train.csv')\n",
    "\n",
    "# Print out houses\n",
    "print(houses)"
   ]
  },
  {
   "cell_type": "code",
   "execution_count": null,
   "metadata": {},
   "outputs": [],
   "source": [
    "print(houses['SalePrice'].describe())"
   ]
  },
  {
   "cell_type": "markdown",
   "metadata": {},
   "source": [
    "## Understand Linear regression \n"
   ]
  },
  {
   "cell_type": "markdown",
   "metadata": {},
   "source": [
    "From Andrew Ng course : \n",
    "> To perform supervised learning, we must decide how we’re going to represent functions/hypotheses h in a computer. As an initial choice, let’s say\n",
    "we decide to approximate y as a linear function of x:\n",
    "    hθ(x) = θ0 + θ1x1 + θ2x2"
   ]
  },
  {
   "cell_type": "markdown",
   "metadata": {},
   "source": [
    "![linear](images/linear.gif)"
   ]
  },
  {
   "cell_type": "markdown",
   "metadata": {},
   "source": [
    "#### Gradient Descent \n",
    "##### Batch Gradient Descent \n",
    "Run all training examples.\n",
    "##### Stochastic Gradient Descent \n",
    "Run just one training example each time.\n",
    "\n",
    "#### Learning Rate \n",
    "Choosing the learning rate is primordial for our gradient descent algorithm to converge.\n",
    "\n",
    "![small](images/small.jpg)\n",
    "![big](images/big.jpg)\n",
    "\n",
    "Note : The ideal learning rate in one-dimension is  (the inverse of the second derivative of f(x) at x)."
   ]
  },
  {
   "cell_type": "code",
   "execution_count": null,
   "metadata": {},
   "outputs": [],
   "source": [
    "dataset = pd.read_csv('datasets/train.csv')\n",
    "\n",
    "numeric_types = ['int16', 'int32', 'int64', 'float16', 'float32', 'float64']\n",
    "dataset = dataset.select_dtypes(include=numeric_types)\n",
    "print(dataset)"
   ]
  },
  {
   "cell_type": "code",
   "execution_count": null,
   "metadata": {},
   "outputs": [],
   "source": [
    "x = dataset['LotArea']\n",
    "y = dataset['SalePrice']\n",
    "print(x)"
   ]
  },
  {
   "cell_type": "code",
   "execution_count": null,
   "metadata": {},
   "outputs": [],
   "source": [
    "x = (x - x.mean()) / x.std() \n",
    "x = np.c_[np.ones(x.shape[0]), x] # To help us get b * 1 + a * x \n",
    "print(x)"
   ]
  },
  {
   "cell_type": "code",
   "execution_count": null,
   "metadata": {},
   "outputs": [],
   "source": [
    "#GRADIENT DESCENT\n",
    "\n",
    "alpha = 0.01 #Step size\n",
    "iterations = 2000 #No. of iterations\n",
    "m = y.size #No. of data points\n",
    "np.random.seed(123) #Set the seed\n",
    "theta = np.random.rand(2) #Pick some random values to start with\n",
    "# theta[0] == b \n",
    "# theta[1] == a\n",
    "\n",
    "print(theta)"
   ]
  },
  {
   "cell_type": "code",
   "execution_count": null,
   "metadata": {},
   "outputs": [],
   "source": [
    "def gradient_descent(x, y, theta, iterations, alpha):\n",
    "    past_costs = [] # To know that this value is decreasing \n",
    "    past_thetas = [theta] \n",
    "    for i in range(iterations):\n",
    "        prediction = np.dot(x, theta)\n",
    "        error = prediction - y \n",
    "        cost = 1/(2*m) * np.dot(error.T, error)\n",
    "        past_costs.append(cost)\n",
    "        theta = theta - (alpha * (1/m) * np.dot(x.T, error))\n",
    "        past_thetas.append(theta)\n",
    "        \n",
    "    return past_thetas, past_costs\n",
    "\n",
    "past_thetas, past_costs = gradient_descent(x, y, theta, iterations, alpha)\n",
    "theta = past_thetas[-1]\n",
    "\n",
    "#Print the results...\n",
    "print(\"Gradient Descent: {:.2f}, {:.2f}\".format(theta[0], theta[1]))"
   ]
  },
  {
   "cell_type": "markdown",
   "metadata": {},
   "source": [
    "### Check your understanding \n",
    "![under](images/under.jpg)\n",
    "\n",
    "Which of the two data sets shown in the preceding plots has the higher Mean Squared Error (MSE)?"
   ]
  },
  {
   "cell_type": "markdown",
   "metadata": {},
   "source": [
    "## What about overfitting ? \n",
    "An overfit model gets a low loss during training but does a poor job predicting new data. If a model fits the current sample well, how can we trust that it will make good predictions on new data? \n",
    "\n",
    ">The less complex an ML model, the more likely that a good empirical result is not just due to the peculiarities of the sample. \n",
    "\n",
    "![over](images/over.jpg)\n",
    "![fit](images/fit.jpg)\n",
    "\n",
    "![bad](images/bas.jpg)\n",
    "\n"
   ]
  },
  {
   "cell_type": "markdown",
   "metadata": {},
   "source": [
    "#### Training sets and test sets \n",
    "Assuming that your test set meets the preceding two conditions, your goal is to create a model that generalizes well to new data. Our test set serves as a proxy for new data. \n",
    "\n",
    "![Training](images/train.jpg)\n",
    "\n",
    "#### Validation \n",
    "We looked at a process of using a test set and a training set to drive iterations of model development. On each iteration, we'd train on the training data and evaluate on the test data, using the evaluation results on test data to guide choices of and changes to various model hyperparameters like learning rate and features. Is there anything wrong with this approach? \n",
    "*  Totally fine, we're training on training data and evaluating on separate, held-out test data.\n",
    "* This is computationally inefficient. We should just pick a default set of hyperparameters and live with them to save resources.\n",
    "* Doing many rounds of this procedure might cause us to implicitly fit to the peculiarities of our specific test set.\n",
    "\n",
    "**Solution** \n",
    "![train](images/trainset.jpg)"
   ]
  },
  {
   "cell_type": "code",
   "execution_count": null,
   "metadata": {},
   "outputs": [],
   "source": [
    "from sklearn.model_selection import train_test_split \n",
    "X_train, X_test, y_train, y_test = train_test_split(x, y, test_size=0.2, random_state=0)  "
   ]
  },
  {
   "cell_type": "code",
   "execution_count": null,
   "metadata": {},
   "outputs": [],
   "source": [
    "from sklearn.linear_model import LinearRegression  \n",
    "regressor = LinearRegression()  \n",
    "regressor.fit(X_train, y_train)  "
   ]
  },
  {
   "cell_type": "code",
   "execution_count": null,
   "metadata": {},
   "outputs": [],
   "source": [
    "y_pred = regressor.predict(X_test) "
   ]
  },
  {
   "cell_type": "code",
   "execution_count": null,
   "metadata": {},
   "outputs": [],
   "source": [
    "from sklearn import metrics  \n",
    "print('Mean Absolute Error:', metrics.mean_absolute_error(y_test, y_pred))  \n",
    "print('Mean Squared Error:', metrics.mean_squared_error(y_test, y_pred))  \n",
    "print('Root Mean Squared Error:', np.sqrt(metrics.mean_squared_error(y_test, y_pred)))  "
   ]
  },
  {
   "cell_type": "markdown",
   "metadata": {},
   "source": [
    "## Let's classify Spams ! \n",
    "![Naive Bayes](images/bayes.jpg)\n"
   ]
  },
  {
   "cell_type": "code",
   "execution_count": 16,
   "metadata": {},
   "outputs": [],
   "source": [
    "from nltk.tokenize import word_tokenize\n",
    "from nltk.corpus import stopwords\n",
    "from nltk.stem import PorterStemmer\n",
    "from wordcloud import WordCloud\n",
    "from math import log, sqrt\n",
    "from sklearn.naive_bayes import BernoulliNB\n",
    "import re"
   ]
  },
  {
   "cell_type": "code",
   "execution_count": 17,
   "metadata": {},
   "outputs": [
    {
     "data": {
      "text/html": [
       "<div>\n",
       "<style scoped>\n",
       "    .dataframe tbody tr th:only-of-type {\n",
       "        vertical-align: middle;\n",
       "    }\n",
       "\n",
       "    .dataframe tbody tr th {\n",
       "        vertical-align: top;\n",
       "    }\n",
       "\n",
       "    .dataframe thead th {\n",
       "        text-align: right;\n",
       "    }\n",
       "</style>\n",
       "<table border=\"1\" class=\"dataframe\">\n",
       "  <thead>\n",
       "    <tr style=\"text-align: right;\">\n",
       "      <th></th>\n",
       "      <th>v1</th>\n",
       "      <th>v2</th>\n",
       "      <th>Unnamed: 2</th>\n",
       "      <th>Unnamed: 3</th>\n",
       "      <th>Unnamed: 4</th>\n",
       "    </tr>\n",
       "  </thead>\n",
       "  <tbody>\n",
       "    <tr>\n",
       "      <th>0</th>\n",
       "      <td>ham</td>\n",
       "      <td>Go until jurong point, crazy.. Available only ...</td>\n",
       "      <td>NaN</td>\n",
       "      <td>NaN</td>\n",
       "      <td>NaN</td>\n",
       "    </tr>\n",
       "    <tr>\n",
       "      <th>1</th>\n",
       "      <td>ham</td>\n",
       "      <td>Ok lar... Joking wif u oni...</td>\n",
       "      <td>NaN</td>\n",
       "      <td>NaN</td>\n",
       "      <td>NaN</td>\n",
       "    </tr>\n",
       "    <tr>\n",
       "      <th>2</th>\n",
       "      <td>spam</td>\n",
       "      <td>Free entry in 2 a wkly comp to win FA Cup fina...</td>\n",
       "      <td>NaN</td>\n",
       "      <td>NaN</td>\n",
       "      <td>NaN</td>\n",
       "    </tr>\n",
       "    <tr>\n",
       "      <th>3</th>\n",
       "      <td>ham</td>\n",
       "      <td>U dun say so early hor... U c already then say...</td>\n",
       "      <td>NaN</td>\n",
       "      <td>NaN</td>\n",
       "      <td>NaN</td>\n",
       "    </tr>\n",
       "    <tr>\n",
       "      <th>4</th>\n",
       "      <td>ham</td>\n",
       "      <td>Nah I don't think he goes to usf, he lives aro...</td>\n",
       "      <td>NaN</td>\n",
       "      <td>NaN</td>\n",
       "      <td>NaN</td>\n",
       "    </tr>\n",
       "  </tbody>\n",
       "</table>\n",
       "</div>"
      ],
      "text/plain": [
       "     v1                                                 v2 Unnamed: 2  \\\n",
       "0   ham  Go until jurong point, crazy.. Available only ...        NaN   \n",
       "1   ham                      Ok lar... Joking wif u oni...        NaN   \n",
       "2  spam  Free entry in 2 a wkly comp to win FA Cup fina...        NaN   \n",
       "3   ham  U dun say so early hor... U c already then say...        NaN   \n",
       "4   ham  Nah I don't think he goes to usf, he lives aro...        NaN   \n",
       "\n",
       "  Unnamed: 3 Unnamed: 4  \n",
       "0        NaN        NaN  \n",
       "1        NaN        NaN  \n",
       "2        NaN        NaN  \n",
       "3        NaN        NaN  \n",
       "4        NaN        NaN  "
      ]
     },
     "execution_count": 17,
     "metadata": {},
     "output_type": "execute_result"
    }
   ],
   "source": [
    "mails = pd.read_csv('datasets/spam.csv', encoding = 'latin-1')\n",
    "mails.head()\n"
   ]
  },
  {
   "cell_type": "code",
   "execution_count": 18,
   "metadata": {},
   "outputs": [
    {
     "data": {
      "text/html": [
       "<div>\n",
       "<style scoped>\n",
       "    .dataframe tbody tr th:only-of-type {\n",
       "        vertical-align: middle;\n",
       "    }\n",
       "\n",
       "    .dataframe tbody tr th {\n",
       "        vertical-align: top;\n",
       "    }\n",
       "\n",
       "    .dataframe thead th {\n",
       "        text-align: right;\n",
       "    }\n",
       "</style>\n",
       "<table border=\"1\" class=\"dataframe\">\n",
       "  <thead>\n",
       "    <tr style=\"text-align: right;\">\n",
       "      <th></th>\n",
       "      <th>v1</th>\n",
       "      <th>v2</th>\n",
       "    </tr>\n",
       "  </thead>\n",
       "  <tbody>\n",
       "    <tr>\n",
       "      <th>0</th>\n",
       "      <td>ham</td>\n",
       "      <td>Go until jurong point, crazy.. Available only ...</td>\n",
       "    </tr>\n",
       "    <tr>\n",
       "      <th>1</th>\n",
       "      <td>ham</td>\n",
       "      <td>Ok lar... Joking wif u oni...</td>\n",
       "    </tr>\n",
       "    <tr>\n",
       "      <th>2</th>\n",
       "      <td>spam</td>\n",
       "      <td>Free entry in 2 a wkly comp to win FA Cup fina...</td>\n",
       "    </tr>\n",
       "    <tr>\n",
       "      <th>3</th>\n",
       "      <td>ham</td>\n",
       "      <td>U dun say so early hor... U c already then say...</td>\n",
       "    </tr>\n",
       "    <tr>\n",
       "      <th>4</th>\n",
       "      <td>ham</td>\n",
       "      <td>Nah I don't think he goes to usf, he lives aro...</td>\n",
       "    </tr>\n",
       "  </tbody>\n",
       "</table>\n",
       "</div>"
      ],
      "text/plain": [
       "     v1                                                 v2\n",
       "0   ham  Go until jurong point, crazy.. Available only ...\n",
       "1   ham                      Ok lar... Joking wif u oni...\n",
       "2  spam  Free entry in 2 a wkly comp to win FA Cup fina...\n",
       "3   ham  U dun say so early hor... U c already then say...\n",
       "4   ham  Nah I don't think he goes to usf, he lives aro..."
      ]
     },
     "execution_count": 18,
     "metadata": {},
     "output_type": "execute_result"
    }
   ],
   "source": [
    "mails.drop(['Unnamed: 2', 'Unnamed: 3', 'Unnamed: 4'], axis = 1, inplace = True)\n",
    "mails.head()"
   ]
  },
  {
   "cell_type": "code",
   "execution_count": 19,
   "metadata": {},
   "outputs": [
    {
     "data": {
      "text/html": [
       "<div>\n",
       "<style scoped>\n",
       "    .dataframe tbody tr th:only-of-type {\n",
       "        vertical-align: middle;\n",
       "    }\n",
       "\n",
       "    .dataframe tbody tr th {\n",
       "        vertical-align: top;\n",
       "    }\n",
       "\n",
       "    .dataframe thead th {\n",
       "        text-align: right;\n",
       "    }\n",
       "</style>\n",
       "<table border=\"1\" class=\"dataframe\">\n",
       "  <thead>\n",
       "    <tr style=\"text-align: right;\">\n",
       "      <th></th>\n",
       "      <th>labels</th>\n",
       "      <th>message</th>\n",
       "    </tr>\n",
       "  </thead>\n",
       "  <tbody>\n",
       "    <tr>\n",
       "      <th>0</th>\n",
       "      <td>ham</td>\n",
       "      <td>Go until jurong point, crazy.. Available only ...</td>\n",
       "    </tr>\n",
       "    <tr>\n",
       "      <th>1</th>\n",
       "      <td>ham</td>\n",
       "      <td>Ok lar... Joking wif u oni...</td>\n",
       "    </tr>\n",
       "    <tr>\n",
       "      <th>2</th>\n",
       "      <td>spam</td>\n",
       "      <td>Free entry in 2 a wkly comp to win FA Cup fina...</td>\n",
       "    </tr>\n",
       "    <tr>\n",
       "      <th>3</th>\n",
       "      <td>ham</td>\n",
       "      <td>U dun say so early hor... U c already then say...</td>\n",
       "    </tr>\n",
       "    <tr>\n",
       "      <th>4</th>\n",
       "      <td>ham</td>\n",
       "      <td>Nah I don't think he goes to usf, he lives aro...</td>\n",
       "    </tr>\n",
       "  </tbody>\n",
       "</table>\n",
       "</div>"
      ],
      "text/plain": [
       "  labels                                            message\n",
       "0    ham  Go until jurong point, crazy.. Available only ...\n",
       "1    ham                      Ok lar... Joking wif u oni...\n",
       "2   spam  Free entry in 2 a wkly comp to win FA Cup fina...\n",
       "3    ham  U dun say so early hor... U c already then say...\n",
       "4    ham  Nah I don't think he goes to usf, he lives aro..."
      ]
     },
     "execution_count": 19,
     "metadata": {},
     "output_type": "execute_result"
    }
   ],
   "source": [
    "mails.rename(columns = {'v1': 'labels', 'v2': 'message'}, inplace = True)\n",
    "mails.head()"
   ]
  },
  {
   "cell_type": "code",
   "execution_count": 20,
   "metadata": {},
   "outputs": [
    {
     "data": {
      "text/plain": [
       "ham     4825\n",
       "spam     747\n",
       "Name: labels, dtype: int64"
      ]
     },
     "execution_count": 20,
     "metadata": {},
     "output_type": "execute_result"
    }
   ],
   "source": [
    "mails['labels'].value_counts()"
   ]
  },
  {
   "cell_type": "code",
   "execution_count": 21,
   "metadata": {},
   "outputs": [
    {
     "data": {
      "text/html": [
       "<div>\n",
       "<style scoped>\n",
       "    .dataframe tbody tr th:only-of-type {\n",
       "        vertical-align: middle;\n",
       "    }\n",
       "\n",
       "    .dataframe tbody tr th {\n",
       "        vertical-align: top;\n",
       "    }\n",
       "\n",
       "    .dataframe thead th {\n",
       "        text-align: right;\n",
       "    }\n",
       "</style>\n",
       "<table border=\"1\" class=\"dataframe\">\n",
       "  <thead>\n",
       "    <tr style=\"text-align: right;\">\n",
       "      <th></th>\n",
       "      <th>message</th>\n",
       "      <th>label</th>\n",
       "    </tr>\n",
       "  </thead>\n",
       "  <tbody>\n",
       "    <tr>\n",
       "      <th>0</th>\n",
       "      <td>Go until jurong point, crazy.. Available only ...</td>\n",
       "      <td>0</td>\n",
       "    </tr>\n",
       "    <tr>\n",
       "      <th>1</th>\n",
       "      <td>Ok lar... Joking wif u oni...</td>\n",
       "      <td>0</td>\n",
       "    </tr>\n",
       "    <tr>\n",
       "      <th>2</th>\n",
       "      <td>Free entry in 2 a wkly comp to win FA Cup fina...</td>\n",
       "      <td>1</td>\n",
       "    </tr>\n",
       "    <tr>\n",
       "      <th>3</th>\n",
       "      <td>U dun say so early hor... U c already then say...</td>\n",
       "      <td>0</td>\n",
       "    </tr>\n",
       "    <tr>\n",
       "      <th>4</th>\n",
       "      <td>Nah I don't think he goes to usf, he lives aro...</td>\n",
       "      <td>0</td>\n",
       "    </tr>\n",
       "  </tbody>\n",
       "</table>\n",
       "</div>"
      ],
      "text/plain": [
       "                                             message  label\n",
       "0  Go until jurong point, crazy.. Available only ...      0\n",
       "1                      Ok lar... Joking wif u oni...      0\n",
       "2  Free entry in 2 a wkly comp to win FA Cup fina...      1\n",
       "3  U dun say so early hor... U c already then say...      0\n",
       "4  Nah I don't think he goes to usf, he lives aro...      0"
      ]
     },
     "execution_count": 21,
     "metadata": {},
     "output_type": "execute_result"
    }
   ],
   "source": [
    "mails['label'] = mails['labels'].map({'ham': 0, 'spam': 1})\n",
    "mails.drop(['labels'], axis = 1, inplace = True)\n",
    "mails.head()"
   ]
  },
  {
   "cell_type": "code",
   "execution_count": 22,
   "metadata": {},
   "outputs": [],
   "source": [
    "totalMails = 4825 + 747\n",
    "trainIndex, testIndex = list(), list()\n",
    "for i in range(mails.shape[0]):\n",
    "    if np.random.uniform(0, 1) < 0.75:\n",
    "        trainIndex += [i]\n",
    "    else:\n",
    "        testIndex += [i]\n",
    "trainData = mails.loc[trainIndex]\n",
    "testData = mails.loc[testIndex]"
   ]
  },
  {
   "cell_type": "code",
   "execution_count": 23,
   "metadata": {},
   "outputs": [
    {
     "data": {
      "text/html": [
       "<div>\n",
       "<style scoped>\n",
       "    .dataframe tbody tr th:only-of-type {\n",
       "        vertical-align: middle;\n",
       "    }\n",
       "\n",
       "    .dataframe tbody tr th {\n",
       "        vertical-align: top;\n",
       "    }\n",
       "\n",
       "    .dataframe thead th {\n",
       "        text-align: right;\n",
       "    }\n",
       "</style>\n",
       "<table border=\"1\" class=\"dataframe\">\n",
       "  <thead>\n",
       "    <tr style=\"text-align: right;\">\n",
       "      <th></th>\n",
       "      <th>message</th>\n",
       "      <th>label</th>\n",
       "    </tr>\n",
       "  </thead>\n",
       "  <tbody>\n",
       "    <tr>\n",
       "      <th>0</th>\n",
       "      <td>Ok lar... Joking wif u oni...</td>\n",
       "      <td>0</td>\n",
       "    </tr>\n",
       "    <tr>\n",
       "      <th>1</th>\n",
       "      <td>Free entry in 2 a wkly comp to win FA Cup fina...</td>\n",
       "      <td>1</td>\n",
       "    </tr>\n",
       "    <tr>\n",
       "      <th>2</th>\n",
       "      <td>U dun say so early hor... U c already then say...</td>\n",
       "      <td>0</td>\n",
       "    </tr>\n",
       "    <tr>\n",
       "      <th>3</th>\n",
       "      <td>Nah I don't think he goes to usf, he lives aro...</td>\n",
       "      <td>0</td>\n",
       "    </tr>\n",
       "    <tr>\n",
       "      <th>4</th>\n",
       "      <td>Even my brother is not like to speak with me. ...</td>\n",
       "      <td>0</td>\n",
       "    </tr>\n",
       "  </tbody>\n",
       "</table>\n",
       "</div>"
      ],
      "text/plain": [
       "                                             message  label\n",
       "0                      Ok lar... Joking wif u oni...      0\n",
       "1  Free entry in 2 a wkly comp to win FA Cup fina...      1\n",
       "2  U dun say so early hor... U c already then say...      0\n",
       "3  Nah I don't think he goes to usf, he lives aro...      0\n",
       "4  Even my brother is not like to speak with me. ...      0"
      ]
     },
     "execution_count": 23,
     "metadata": {},
     "output_type": "execute_result"
    }
   ],
   "source": [
    "trainData.reset_index(inplace = True)\n",
    "trainData.drop(['index'], axis = 1, inplace = True)\n",
    "trainData.head()"
   ]
  },
  {
   "cell_type": "code",
   "execution_count": 24,
   "metadata": {},
   "outputs": [
    {
     "data": {
      "text/html": [
       "<div>\n",
       "<style scoped>\n",
       "    .dataframe tbody tr th:only-of-type {\n",
       "        vertical-align: middle;\n",
       "    }\n",
       "\n",
       "    .dataframe tbody tr th {\n",
       "        vertical-align: top;\n",
       "    }\n",
       "\n",
       "    .dataframe thead th {\n",
       "        text-align: right;\n",
       "    }\n",
       "</style>\n",
       "<table border=\"1\" class=\"dataframe\">\n",
       "  <thead>\n",
       "    <tr style=\"text-align: right;\">\n",
       "      <th></th>\n",
       "      <th>message</th>\n",
       "      <th>label</th>\n",
       "    </tr>\n",
       "  </thead>\n",
       "  <tbody>\n",
       "    <tr>\n",
       "      <th>0</th>\n",
       "      <td>Go until jurong point, crazy.. Available only ...</td>\n",
       "      <td>0</td>\n",
       "    </tr>\n",
       "    <tr>\n",
       "      <th>1</th>\n",
       "      <td>FreeMsg Hey there darling it's been 3 week's n...</td>\n",
       "      <td>1</td>\n",
       "    </tr>\n",
       "    <tr>\n",
       "      <th>2</th>\n",
       "      <td>Had your mobile 11 months or more? U R entitle...</td>\n",
       "      <td>1</td>\n",
       "    </tr>\n",
       "    <tr>\n",
       "      <th>3</th>\n",
       "      <td>SIX chances to win CASH! From 100 to 20,000 po...</td>\n",
       "      <td>1</td>\n",
       "    </tr>\n",
       "    <tr>\n",
       "      <th>4</th>\n",
       "      <td>XXXMobileMovieClub: To use your credit, click ...</td>\n",
       "      <td>1</td>\n",
       "    </tr>\n",
       "  </tbody>\n",
       "</table>\n",
       "</div>"
      ],
      "text/plain": [
       "                                             message  label\n",
       "0  Go until jurong point, crazy.. Available only ...      0\n",
       "1  FreeMsg Hey there darling it's been 3 week's n...      1\n",
       "2  Had your mobile 11 months or more? U R entitle...      1\n",
       "3  SIX chances to win CASH! From 100 to 20,000 po...      1\n",
       "4  XXXMobileMovieClub: To use your credit, click ...      1"
      ]
     },
     "execution_count": 24,
     "metadata": {},
     "output_type": "execute_result"
    }
   ],
   "source": [
    "testData.reset_index(inplace = True)\n",
    "testData.drop(['index'], axis = 1, inplace = True)\n",
    "testData.head()"
   ]
  },
  {
   "cell_type": "code",
   "execution_count": 25,
   "metadata": {},
   "outputs": [
    {
     "data": {
      "text/plain": [
       "<Figure size 1000x800 with 1 Axes>"
      ]
     },
     "metadata": {},
     "output_type": "display_data"
    }
   ],
   "source": [
    "import matplotlib.pyplot as plt\n",
    "spam_words = ' '.join(list(mails[mails['label'] == 1]['message']))\n",
    "spam_wc = WordCloud(width = 512,height = 512).generate(spam_words)\n",
    "plt.figure(figsize = (10, 8), facecolor = 'k')\n",
    "plt.imshow(spam_wc)\n",
    "plt.axis('off')\n",
    "plt.tight_layout(pad = 0)\n",
    "plt.show()"
   ]
  },
  {
   "cell_type": "code",
   "execution_count": 26,
   "metadata": {},
   "outputs": [
    {
     "data": {
      "image/png": "[encoded data removed]",
      "text/plain": [
       "<Figure size 720x576 with 1 Axes>"
      ]
     },
     "metadata": {},
     "output_type": "display_data"
    }
   ],
   "source": [
    "ham_words = ' '.join(list(mails[mails['label'] == 0]['message']))\n",
    "ham_wc = WordCloud(width = 512,height = 512).generate(ham_words)\n",
    "plt.figure(figsize = (10, 8), facecolor = 'k')\n",
    "plt.imshow(ham_wc)\n",
    "plt.axis('off')\n",
    "plt.tight_layout(pad = 0)\n",
    "plt.show()"
   ]
  }
 ],
 "metadata": {
  "kernelspec": {
   "display_name": "Python 3",
   "language": "python",
   "name": "python3"
  },
  "language_info": {
   "codemirror_mode": {
    "name": "ipython",
    "version": 3
   },
   "file_extension": ".py",
   "mimetype": "text/x-python",
   "name": "python",
   "nbconvert_exporter": "python",
   "pygments_lexer": "ipython3",
   "version": "3.6.5"
  }
 },
 "nbformat": 4,
 "nbformat_minor": 2
}
